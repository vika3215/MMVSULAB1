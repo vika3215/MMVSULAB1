{
  "nbformat": 4,
  "nbformat_minor": 0,
  "metadata": {
    "colab": {
      "provenance": [],
      "authorship_tag": "ABX9TyOXQosrwhwQx3KbH7sSnhBQ",
      "include_colab_link": true
    },
    "kernelspec": {
      "name": "python3",
      "display_name": "Python 3"
    },
    "language_info": {
      "name": "python"
    }
  },
  "cells": [
    {
      "cell_type": "markdown",
      "metadata": {
        "id": "view-in-github",
        "colab_type": "text"
      },
      "source": [
        "<a href=\"https://colab.research.google.com/github/vika3215/MMVSULAB1/blob/main/Lab1.ipynb\" target=\"_parent\"><img src=\"https://colab.research.google.com/assets/colab-badge.svg\" alt=\"Open In Colab\"/></a>"
      ]
    },
    {
      "cell_type": "markdown",
      "source": [],
      "metadata": {
        "id": "x_jUHYPnheUm"
      }
    },
    {
      "cell_type": "markdown",
      "source": [
        "Задание 1. \n",
        "x'=k*x"
      ],
      "metadata": {
        "id": "0sFBGPU2hfsR"
      }
    },
    {
      "cell_type": "code",
      "execution_count": 1,
      "metadata": {
        "colab": {
          "base_uri": "https://localhost:8080/",
          "height": 265
        },
        "id": "9uBsRJugd6wP",
        "outputId": "fa70818d-f5d3-446b-c646-a841e90242e7"
      },
      "outputs": [
        {
          "output_type": "display_data",
          "data": {
            "text/plain": [
              "<Figure size 432x288 with 1 Axes>"
            ],
            "image/png": "[encoded data removed]"
          },
          "metadata": {
            "needs_background": "light"
          }
        }
      ],
      "source": [
        "import matplotlib.pyplot as plt\n",
        "import numpy as np\n",
        "from scipy.integrate import odeint\n",
        "\n",
        "def dydt(x, t):\n",
        "  k = 0.42\n",
        "  return k * x\n",
        "\n",
        "t = np.linspace(0, 10, 100)\n",
        "\n",
        "solve = odeint(dydt, 1, t=t)\n",
        "solve = solve.flatten()\n",
        "\n",
        "%matplotlib inline\n",
        "\n",
        "plt.plot(t,solve,label=r\"$x'= kx$\")\n",
        "plt.grid(True)\n",
        "plt.legend()\n",
        "plt.show()"
      ]
    },
    {
      "cell_type": "markdown",
      "source": [],
      "metadata": {
        "id": "Rq8rDOHUhPjI"
      }
    },
    {
      "cell_type": "markdown",
      "source": [
        "Задание 2. \n",
        "x'=k(x)*x"
      ],
      "metadata": {
        "id": "a9hlcfTEhFLk"
      }
    },
    {
      "cell_type": "code",
      "source": [
        "import matplotlib.pyplot as plt\n",
        "import numpy as np\n",
        "from scipy.integrate import odeint\n",
        "a=1\n",
        "b=2\n",
        "def dydt(x, t):\n",
        "  return k(x) * x\n",
        "def k(x):\n",
        "  return a * x - b\n",
        "t = np.linspace(0, 10, 100)\n",
        "\n",
        "solve = odeint(dydt, 1, t=t)\n",
        "solve = solve.flatten()\n",
        "\n",
        "%matplotlib inline\n",
        "\n",
        "plt.plot(t,solve,label=r\"$x'= k(x)*x$\")\n",
        "plt.grid(True)\n",
        "plt.legend()\n",
        "plt.show()"
      ],
      "metadata": {
        "colab": {
          "base_uri": "https://localhost:8080/",
          "height": 265
        },
        "id": "WnWTxv15eYk0",
        "outputId": "197d2a79-32d8-401c-d755-68368922032d"
      },
      "execution_count": 12,
      "outputs": [
        {
          "output_type": "display_data",
          "data": {
            "text/plain": [
              "<Figure size 432x288 with 1 Axes>"
            ],
            "image/png": "[encoded data removed]"
          },
          "metadata": {
            "needs_background": "light"
          }
        }
      ]
    },
    {
      "cell_type": "markdown",
      "source": [
        "Задание 3.\n",
        "x'=k(x)*x-c"
      ],
      "metadata": {
        "id": "9g2napJBhU3f"
      }
    },
    {
      "cell_type": "code",
      "source": [
        "import matplotlib.pyplot as plt\n",
        "import numpy as np\n",
        "from scipy.integrate import odeint\n",
        "a=1\n",
        "b=2\n",
        "c=1\n",
        "def dydt(x, t):\n",
        "  return k(x) * x - c\n",
        "def k(x):\n",
        "  return a * x - b\n",
        "t = np.linspace(0, 10, 100)\n",
        "\n",
        "solve = odeint(dydt, 1, t=t)\n",
        "solve = solve.flatten()\n",
        "\n",
        "%matplotlib inline\n",
        "\n",
        "plt.plot(t,solve,label=r\"$x'= k(x)*x-c$\")\n",
        "plt.grid(True)\n",
        "plt.legend()\n",
        "plt.show()"
      ],
      "metadata": {
        "colab": {
          "base_uri": "https://localhost:8080/",
          "height": 265
        },
        "id": "OPwcdBZ6hba6",
        "outputId": "7a3de87e-bd97-4fb7-f5a1-476635de5f7c"
      },
      "execution_count": 11,
      "outputs": [
        {
          "output_type": "display_data",
          "data": {
            "text/plain": [
              "<Figure size 432x288 with 1 Axes>"
            ],
            "image/png": "[encoded data removed]"
          },
          "metadata": {
            "needs_background": "light"
          }
        }
      ]
    },
    {
      "cell_type": "markdown",
      "source": [
        "Задание 4.\n",
        "x'=k(x)*x-c(x)"
      ],
      "metadata": {
        "id": "yNweOURViJv9"
      }
    },
    {
      "cell_type": "code",
      "source": [
        "import matplotlib.pyplot as plt\n",
        "import numpy as np\n",
        "from scipy.integrate import odeint\n",
        "a=1\n",
        "b=2\n",
        "c=3\n",
        "def dydt(x, t):\n",
        "  return k(x) * x - c(x)\n",
        "def k(x):\n",
        "  return a * x - b\n",
        "def c(x):\n",
        "  return a * x\n",
        "\n",
        "t = np.linspace(0, 10, 100)\n",
        "\n",
        "solve = odeint(dydt, 1, t=t)\n",
        "solve = solve.flatten()\n",
        "\n",
        "%matplotlib inline\n",
        "\n",
        "plt.plot(t,solve,label=r\"$x'= k(x)*x-c(x)$\")\n",
        "plt.grid(True)\n",
        "plt.legend()\n",
        "plt.show()"
      ],
      "metadata": {
        "colab": {
          "base_uri": "https://localhost:8080/",
          "height": 265
        },
        "id": "7AapE618iUFv",
        "outputId": "df623b2a-78e5-4997-d251-ed8175029b3d"
      },
      "execution_count": 10,
      "outputs": [
        {
          "output_type": "display_data",
          "data": {
            "text/plain": [
              "<Figure size 432x288 with 1 Axes>"
            ],
            "image/png": "[encoded data removed]"
          },
          "metadata": {
            "needs_background": "light"
          }
        }
      ]
    }
  ]
}